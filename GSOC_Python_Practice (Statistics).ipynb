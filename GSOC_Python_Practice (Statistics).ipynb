{
  "nbformat": 4,
  "nbformat_minor": 0,
  "metadata": {
    "colab": {
      "provenance": []
    },
    "kernelspec": {
      "name": "python3",
      "display_name": "Python 3"
    },
    "language_info": {
      "name": "python"
    }
  },
  "cells": [
    {
      "cell_type": "markdown",
      "source": [
        "Statistics :\n",
        "1) Mean"
      ],
      "metadata": {
        "id": "1ocf3Pdbp2hu"
      }
    },
    {
      "cell_type": "code",
      "source": [
        "import statistics\n",
        "\n",
        "a=[1, 3, 5, 7, 9, 11, 13]\n",
        "print(statistics.mean(a))"
      ],
      "metadata": {
        "colab": {
          "base_uri": "https://localhost:8080/"
        },
        "id": "7Vz2asTVp44d",
        "outputId": "8b4e20b2-69ad-420b-d7d6-c1a8980804a1"
      },
      "execution_count": null,
      "outputs": [
        {
          "output_type": "stream",
          "name": "stdout",
          "text": [
            "7\n"
          ]
        }
      ]
    },
    {
      "cell_type": "markdown",
      "source": [
        "2) Median"
      ],
      "metadata": {
        "id": "vc4IzBMbsXzD"
      }
    },
    {
      "cell_type": "code",
      "source": [
        "print(statistics.median(a))\n"
      ],
      "metadata": {
        "colab": {
          "base_uri": "https://localhost:8080/"
        },
        "id": "Ksw8gM4ysZQG",
        "outputId": "e04745ce-d01c-4dc7-9e14-f40e19a6aa3a"
      },
      "execution_count": null,
      "outputs": [
        {
          "output_type": "stream",
          "name": "stdout",
          "text": [
            "7\n"
          ]
        }
      ]
    },
    {
      "cell_type": "markdown",
      "source": [
        "3) Mode"
      ],
      "metadata": {
        "id": "fRf3uwL4si-o"
      }
    },
    {
      "cell_type": "code",
      "source": [
        "print(statistics.mode(a))"
      ],
      "metadata": {
        "colab": {
          "base_uri": "https://localhost:8080/"
        },
        "id": "EYiI-YN1skQx",
        "outputId": "f618615b-880b-4331-a24b-2ff0df8fdb75"
      },
      "execution_count": null,
      "outputs": [
        {
          "output_type": "stream",
          "name": "stdout",
          "text": [
            "1\n"
          ]
        }
      ]
    },
    {
      "cell_type": "markdown",
      "source": [
        "4) Variance\n",
        "Σ(Xi−¯X)2N"
      ],
      "metadata": {
        "id": "HKnhBOrTsqAe"
      }
    },
    {
      "cell_type": "code",
      "source": [
        "print(statistics.variance(a))"
      ],
      "metadata": {
        "colab": {
          "base_uri": "https://localhost:8080/"
        },
        "id": "KrAu1_ZOsr0d",
        "outputId": "69f43485-04eb-4afa-a664-94f6fcffeb5a"
      },
      "execution_count": null,
      "outputs": [
        {
          "output_type": "stream",
          "name": "stdout",
          "text": [
            "18.666666666666668\n"
          ]
        }
      ]
    },
    {
      "cell_type": "markdown",
      "source": [
        "Hypothesis :\n",
        "\n",
        "1) T - Test (One Sample)\n",
        "Eg:  Average age  "
      ],
      "metadata": {
        "id": "5FbXkeP1s78N"
      }
    },
    {
      "cell_type": "code",
      "source": [
        "from scipy.stats import ttest_1samp\n",
        "import numpy as np\n",
        "\n",
        "ages = [45, 89, 23, 46, 12, 69, 45, 24, 34, 67]\n",
        "print(ages)\n",
        "\n",
        "mean = np.mean(ages)\n",
        "print(mean)\n"
      ],
      "metadata": {
        "colab": {
          "base_uri": "https://localhost:8080/"
        },
        "id": "--5_Ryu-01Tb",
        "outputId": "e82b9706-a7aa-40f5-9285-dc2b9c2b2a96"
      },
      "execution_count": null,
      "outputs": [
        {
          "output_type": "stream",
          "name": "stdout",
          "text": [
            "[45, 89, 23, 46, 12, 69, 45, 24, 34, 67]\n",
            "45.4\n"
          ]
        }
      ]
    },
    {
      "cell_type": "code",
      "source": [
        "t_test, p_val = ttest_1samp(ages, 30)\n",
        "print(\"P-value is: \", p_val)\n",
        "\n",
        "if p_val <= 0.05:\n",
        "    print(\" We can reject the null hypothesis\")\n",
        "else:\n",
        "    print(\"We can accept the null hypothesis\")\n"
      ],
      "metadata": {
        "colab": {
          "base_uri": "https://localhost:8080/"
        },
        "id": "coSNr7Gf1CxJ",
        "outputId": "a9e09eca-7536-4c5a-a7a4-5e66b1def51a"
      },
      "execution_count": null,
      "outputs": [
        {
          "output_type": "stream",
          "name": "stdout",
          "text": [
            "P-value is:  0.07179988272763561\n",
            "We can accept the null hypothesis\n"
          ]
        }
      ]
    },
    {
      "cell_type": "markdown",
      "source": [
        "2) T-Test (Independet)\n",
        "Eg: Comparing the test scores of two different groups of students"
      ],
      "metadata": {
        "id": "KR85JzuoCmY-"
      }
    },
    {
      "cell_type": "code",
      "source": [
        "import scipy.stats as stats\n",
        "\n",
        "\n",
        "group1 = [56, 61, 63, 59, 67, 58, 64, 60, 62, 65]\n",
        "\n",
        "\n",
        "group2 = [71, 73, 68, 72, 75, 70, 74, 76, 69, 72]\n",
        "\n",
        "t_statistic, p_value = stats.ttest_ind(group1, group2)\n",
        "\n"
      ],
      "metadata": {
        "id": "eyLWUCy5BvIo"
      },
      "execution_count": null,
      "outputs": []
    },
    {
      "cell_type": "code",
      "source": [
        "print(\"T-Statistic:\", t_statistic)\n",
        "print(\"P-Value:\", p_value)\n",
        "\n",
        "if p_val < 0.05:\n",
        "    print(\"We can reject the null hypothesis\")\n",
        "else:\n",
        "    print(\"We can accept the null hypothesis\")"
      ],
      "metadata": {
        "colab": {
          "base_uri": "https://localhost:8080/"
        },
        "id": "Hq0JOvcfCz6f",
        "outputId": "539bfcc5-f9eb-46ae-913b-2dba78afb088"
      },
      "execution_count": null,
      "outputs": [
        {
          "output_type": "stream",
          "name": "stdout",
          "text": [
            "T-Statistic: -7.814188279120132\n",
            "P-Value: 3.419293634783685e-07\n",
            "We can accept the null hypothesis\n"
          ]
        }
      ]
    },
    {
      "cell_type": "markdown",
      "source": [
        "3) T - Test (Paired)\n",
        "Eg: Bp measured before medication and measured after medication\n",
        "\n"
      ],
      "metadata": {
        "id": "cEZ6SlEzA3vP"
      }
    },
    {
      "cell_type": "code",
      "source": [
        "import pandas as pd\n",
        "from scipy import stats\n",
        "\n",
        "\n",
        "sample1 = [29, 30, 33, 41, 38, 36,\n",
        "       35, 31, 29, 30]\n",
        "sample2 = [31, 32, 33, 39, 30, 33,\n",
        "        30, 28, 29, 31]\n",
        "\n",
        "\n"
      ],
      "metadata": {
        "id": "Xa5UWB-sA9bE"
      },
      "execution_count": null,
      "outputs": []
    },
    {
      "cell_type": "code",
      "source": [
        "t_test, p_val = stats.ttest_rel(sample1, sample2)\n",
        "print(\"The P-value of the test is: \", p_val)\n",
        "\n",
        "\n",
        "if p_val < 0.05:\n",
        "    print(\"We can reject the null hypothesis\")\n",
        "else:\n",
        "    print(\"We can accept the null hypothesis\")"
      ],
      "metadata": {
        "colab": {
          "base_uri": "https://localhost:8080/"
        },
        "id": "P2qmFZdvBMmi",
        "outputId": "c552db16-8926-4709-e8d5-0f7b22cfc5f8"
      },
      "execution_count": null,
      "outputs": [
        {
          "output_type": "stream",
          "name": "stdout",
          "text": [
            "The P-value of the test is:  0.15266056244408904\n",
            "We can accept the null hypothesis\n"
          ]
        }
      ]
    },
    {
      "cell_type": "markdown",
      "source": [
        "4) Z-Test"
      ],
      "metadata": {
        "id": "f7Er-1qrDgXy"
      }
    },
    {
      "cell_type": "code",
      "source": [
        "import scipy.stats as stats\n",
        "\n",
        "sample_mean = 75\n",
        "population_mean = 70\n",
        "population_stddev = 8\n",
        "sample_size = 50\n",
        "\n",
        "z_score = (sample_mean - population_mean) / (population_stddev / (sample_size ** 0.5))\n",
        "\n"
      ],
      "metadata": {
        "id": "4PXsw54_FOpy"
      },
      "execution_count": null,
      "outputs": []
    },
    {
      "cell_type": "code",
      "source": [
        "p_value = 1 - stats.norm.cdf(z_score)\n",
        "\n",
        "\n",
        "print(\"Z-Score:\", z_score)\n",
        "print(\"P-Value:\", p_value)\n",
        "\n",
        "if p_val < 0.05:\n",
        "    print(\"We can reject the null hypothesis\")\n",
        "else:\n",
        "    print(\"We can accept the null hypothesis\")\n"
      ],
      "metadata": {
        "colab": {
          "base_uri": "https://localhost:8080/"
        },
        "id": "udmvV03tFaUU",
        "outputId": "36a13cdc-0bd0-4e01-de5a-1d89eeafce38"
      },
      "execution_count": null,
      "outputs": [
        {
          "output_type": "stream",
          "name": "stdout",
          "text": [
            "Z-Score: 4.419417382415922\n",
            "P-Value: 4.948367312573865e-06\n",
            "We can accept the null hypothesis\n"
          ]
        }
      ]
    },
    {
      "cell_type": "markdown",
      "source": [
        "5) F - Test"
      ],
      "metadata": {
        "id": "QQuUlJTCG7hq"
      }
    },
    {
      "cell_type": "code",
      "source": [
        "import scipy.stats as stats\n",
        "\n",
        "group1 = [1, 2, 3, 4, 5]\n",
        "group2 = [2, 4, 6, 8, 10]\n",
        "group3 = [3, 6, 9, 12, 15]\n",
        "\n",
        "\n",
        "f_statistic, p_value = stats.f_oneway(group1, group2, group3)\n",
        "\n"
      ],
      "metadata": {
        "id": "MBGZcKP8G-_-"
      },
      "execution_count": null,
      "outputs": []
    },
    {
      "cell_type": "code",
      "source": [
        "print(\"F-Statistic:\", f_statistic)\n",
        "print(\"P-Value:\", p_value)\n",
        "\n",
        "if p_val < 0.05:\n",
        "    print(\"We can reject the null hypothesis\")\n",
        "else:\n",
        "    print(\"We can accept the null hypothesis\")"
      ],
      "metadata": {
        "colab": {
          "base_uri": "https://localhost:8080/"
        },
        "id": "mHptcXwGHGkx",
        "outputId": "a7e7997f-3385-4712-a3f0-aa9a9141a637"
      },
      "execution_count": null,
      "outputs": [
        {
          "output_type": "stream",
          "name": "stdout",
          "text": [
            "F-Statistic: 3.857142857142857\n",
            "P-Value: 0.05086290933139865\n",
            "We can accept the null hypothesis\n"
          ]
        }
      ]
    },
    {
      "cell_type": "markdown",
      "source": [
        "Skewness\n",
        "Eg: dataset representing the incomes of a sample of individuals\n",
        "If its right skewed then there are less people with higher income and more people with less income"
      ],
      "metadata": {
        "id": "maLEedshHi4U"
      }
    },
    {
      "cell_type": "code",
      "source": [
        "import scipy.stats as stats\n",
        "import statistics\n",
        "\n",
        "data = [1000, 2000, 3000, 4000, 5000, 6000, 7000, 8000, 2000, 10000]\n",
        "\n",
        "print(statistics.mean(data))\n",
        "print(statistics.median(data))\n",
        "\n",
        "skewness = stats.skew(data)\n",
        "\n",
        "\n",
        "print(\"Skewness:\", skewness)\n",
        "\n"
      ],
      "metadata": {
        "colab": {
          "base_uri": "https://localhost:8080/"
        },
        "id": "AV9nBGnoH1CW",
        "outputId": "d8b8f287-ae39-4f1f-cf4c-2c43e690b5f6"
      },
      "execution_count": null,
      "outputs": [
        {
          "output_type": "stream",
          "name": "stdout",
          "text": [
            "4800\n",
            "4500.0\n",
            "Skewness: 0.3730421772611752\n"
          ]
        }
      ]
    },
    {
      "cell_type": "markdown",
      "source": [
        "Box Plot:\n",
        "The matplotlib.pyplot module of matplotlib library provides boxplot() function with the help of which we can create box plots"
      ],
      "metadata": {
        "id": "hXS15djQJC5B"
      }
    },
    {
      "cell_type": "code",
      "source": [
        "import matplotlib.pyplot as plt\n",
        "\n",
        "\n",
        "data = [25, 30, 32, 35, 40, 45, 48, 50, 52, 55, 58]\n",
        "\n",
        "#Creating figure and axis\n",
        "fig, ax = plt.subplots()\n",
        "\n",
        "ax.boxplot(data)\n",
        "\n",
        "# Setting labels and title\n",
        "ax.set_xticklabels(['Data'])\n",
        "ax.set_ylabel('Values')\n",
        "ax.set_title('Boxplot')\n",
        "\n",
        "plt.show()\n"
      ],
      "metadata": {
        "colab": {
          "base_uri": "https://localhost:8080/",
          "height": 452
        },
        "id": "T9xN5THPJMav",
        "outputId": "21227bcc-caa4-45ba-924b-197890ae90fe"
      },
      "execution_count": null,
      "outputs": [
        {
          "output_type": "display_data",
          "data": {
            "text/plain": [
              "<Figure size 640x480 with 1 Axes>"
            ],
            "image/png": "[encoded data removed]"
          },
          "metadata": {}
        }
      ]
    },
    {
      "cell_type": "markdown",
      "source": [
        "Box Plot with Notch"
      ],
      "metadata": {
        "id": "eKv-6KbWLGPR"
      }
    },
    {
      "cell_type": "code",
      "source": [
        "import matplotlib.pyplot as plt\n",
        "\n",
        "\n",
        "data = [25, 30, 32, 35, 40, 45, 48, 50, 52, 55, 58]\n",
        "\n",
        "#Creating figure and axis\n",
        "fig, ax = plt.subplots()\n",
        "\n",
        "box_color='skyblue'\n",
        "\n",
        "ax.boxplot(data,notch=True)\n",
        "\n",
        "# Setting labels and title\n",
        "ax.set_xticklabels(['Data'])\n",
        "ax.set_ylabel('Values')\n",
        "ax.set_title('Boxplot')\n",
        "\n",
        "plt.show()\n"
      ],
      "metadata": {
        "colab": {
          "base_uri": "https://localhost:8080/",
          "height": 452
        },
        "id": "UV9UYgT4KPks",
        "outputId": "50971d03-bf99-4031-ae17-8623e5f26b24"
      },
      "execution_count": null,
      "outputs": [
        {
          "output_type": "display_data",
          "data": {
            "text/plain": [
              "<Figure size 640x480 with 1 Axes>"
            ],
            "image/png": "[encoded data removed]"
          },
          "metadata": {}
        }
      ]
    },
    {
      "cell_type": "markdown",
      "source": [
        "Histogram : The matplotlib.pyplot module of matplotlib library provides hist() function with the help of which we can create histogram"
      ],
      "metadata": {
        "id": "Eq-DbXsHLS1F"
      }
    },
    {
      "cell_type": "code",
      "source": [
        "import matplotlib.pyplot as plt\n",
        "\n",
        "\n",
        "data = [15, 20, 25, 30, 35, 40, 45, 50, 55, 60, 65, 70, 75, 80, 85]\n",
        "\n",
        "#Creating  figure and axis\n",
        "fig, ax = plt.subplots()\n",
        "\n",
        "ax.hist(data, bins=6, color='skyblue', edgecolor='black')\n",
        "\n",
        "# Setting labels and title\n",
        "ax.set_xlabel('Values')\n",
        "ax.set_ylabel('Frequency')\n",
        "ax.set_title('Histogram')\n",
        "\n",
        "plt.show()\n"
      ],
      "metadata": {
        "colab": {
          "base_uri": "https://localhost:8080/",
          "height": 472
        },
        "id": "1B-Rr1zBLVVJ",
        "outputId": "97081531-0f17-468d-b7c1-9edea9ce83b3"
      },
      "execution_count": null,
      "outputs": [
        {
          "output_type": "display_data",
          "data": {
            "text/plain": [
              "<Figure size 640x480 with 1 Axes>"
            ],
            "image/png": "[encoded data removed]"
          },
          "metadata": {}
        }
      ]
    },
    {
      "cell_type": "markdown",
      "source": [
        "Chi Square Test"
      ],
      "metadata": {
        "id": "tKlY76dHWeJ7"
      }
    },
    {
      "cell_type": "code",
      "source": [
        "import scipy.stats as stats\n",
        "\n",
        "\n",
        "observed = [[50, 30, 20],\n",
        "            [40, 45, 15],\n",
        "            [35, 25, 40]]\n",
        "\n",
        "\n",
        "chi2_stat, p_value, dof, expected = stats.chi2_contingency(observed)\n"
      ],
      "metadata": {
        "id": "gzaisk-QWhhv"
      },
      "execution_count": null,
      "outputs": []
    },
    {
      "cell_type": "code",
      "source": [
        "print(\"Chi-square Statistic:\", chi2_stat)\n",
        "print(\"P-Value:\", p_value)\n",
        "print(\"Degrees of Freedom:\", dof)\n",
        "print(\"Expected Frequencies:\", expected)\n",
        "\n",
        "if p_value < 0.05:\n",
        "    print(\"We can reject the null hypothesis\")\n",
        "else:\n",
        "    print(\"We can accept the null hypothesis\")"
      ],
      "metadata": {
        "colab": {
          "base_uri": "https://localhost:8080/"
        },
        "id": "jLSo2ZLWWqcL",
        "outputId": "9d21a5f1-9aa7-442f-ddf0-7fa296dc3bdd"
      },
      "execution_count": null,
      "outputs": [
        {
          "output_type": "stream",
          "name": "stdout",
          "text": [
            "\u001b[H\u001b[2J"
          ]
        }
      ]
    },
    {
      "cell_type": "markdown",
      "source": [
        "Simple Linear Regression"
      ],
      "metadata": {
        "id": "A1xuTgnrOd_9"
      }
    },
    {
      "cell_type": "code",
      "source": [
        "import numpy as np\n",
        "import matplotlib.pyplot as plt\n",
        "import pandas as pd"
      ],
      "metadata": {
        "id": "RpYoK0ybOglK"
      },
      "execution_count": null,
      "outputs": []
    }
  ]
}
