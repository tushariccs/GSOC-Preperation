{
  "nbformat": 4,
  "nbformat_minor": 0,
  "metadata": {
    "colab": {
      "provenance": []
    },
    "kernelspec": {
      "name": "python3",
      "display_name": "Python 3"
    },
    "language_info": {
      "name": "python"
    }
  },
  "cells": [
    {
      "cell_type": "markdown",
      "source": [
        "EDA\n",
        "\n"
      ],
      "metadata": {
        "id": "XbqJ5ut1ZYnz"
      }
    },
    {
      "cell_type": "markdown",
      "source": [
        "1) Importing libraries"
      ],
      "metadata": {
        "id": "BTcFFn9QpzlN"
      }
    },
    {
      "cell_type": "code",
      "source": [
        "import pandas as pd\n",
        "import numpy as np\n",
        "import matplotlib.pyplot as plt\n"
      ],
      "metadata": {
        "id": "WS9GgnjTpN4Y"
      },
      "execution_count": null,
      "outputs": []
    },
    {
      "cell_type": "markdown",
      "source": [
        "We are using seaborn library because it is a data visualization library in Python that is built on top of Matplotlib. It provides a high-level interface for creating informative and attractive statistical graphics."
      ],
      "metadata": {
        "id": "UncGZxBChN0w"
      }
    },
    {
      "cell_type": "markdown",
      "source": [
        "2) Loading dataset"
      ],
      "metadata": {
        "id": "GlZLHw5VqBba"
      }
    },
    {
      "cell_type": "code",
      "source": [
        "from google.colab import files\n",
        "\n",
        "uploaded = files.upload()\n"
      ],
      "metadata": {
        "colab": {
          "base_uri": "https://localhost:8080/",
          "height": 73
        },
        "id": "A4xOlZuMqB3G",
        "outputId": "df304317-acf2-43a0-9b6f-c9222970be48"
      },
      "execution_count": null,
      "outputs": [
        {
          "output_type": "display_data",
          "data": {
            "text/plain": [
              "<IPython.core.display.HTML object>"
            ],
            "text/html": [
              "\n",
              "     <input type=\"file\" id=\"files-d1277517-fbd0-4acf-acff-d55e19d1a6d9\" name=\"files[]\" multiple disabled\n",
              "        style=\"border:none\" />\n",
              "     <output id=\"result-d1277517-fbd0-4acf-acff-d55e19d1a6d9\">\n",
              "      Upload widget is only available when the cell has been executed in the\n",
              "      current browser session. Please rerun this cell to enable.\n",
              "      </output>\n",
              "      <script>// Copyright 2017 Google LLC\n",
              "//\n",
              "// Licensed under the Apache License, Version 2.0 (the \"License\");\n",
              "// you may not use this file except in compliance with the License.\n",
              "// You may obtain a copy of the License at\n",
              "//\n",
              "//      http://www.apache.org/licenses/LICENSE-2.0\n",
              "//\n",
              "// Unless required by applicable law or agreed to in writing, software\n",
              "// distributed under the License is distributed on an \"AS IS\" BASIS,\n",
              "// WITHOUT WARRANTIES OR CONDITIONS OF ANY KIND, either express or implied.\n",
              "// See the License for the specific language governing permissions and\n",
              "// limitations under the License.\n",
              "\n",
              "/**\n",
              " * @fileoverview Helpers for google.colab Python module.\n",
              " */\n",
              "(function(scope) {\n",
              "function span(text, styleAttributes = {}) {\n",
              "  const element = document.createElement('span');\n",
              "  element.textContent = text;\n",
              "  for (const key of Object.keys(styleAttributes)) {\n",
              "    element.style[key] = styleAttributes[key];\n",
              "  }\n",
              "  return element;\n",
              "}\n",
              "\n",
              "// Max number of bytes which will be uploaded at a time.\n",
              "const MAX_PAYLOAD_SIZE = 100 * 1024;\n",
              "\n",
              "function _uploadFiles(inputId, outputId) {\n",
              "  const steps = uploadFilesStep(inputId, outputId);\n",
              "  const outputElement = document.getElementById(outputId);\n",
              "  // Cache steps on the outputElement to make it available for the next call\n",
              "  // to uploadFilesContinue from Python.\n",
              "  outputElement.steps = steps;\n",
              "\n",
              "  return _uploadFilesContinue(outputId);\n",
              "}\n",
              "\n",
              "// This is roughly an async generator (not supported in the browser yet),\n",
              "// where there are multiple asynchronous steps and the Python side is going\n",
              "// to poll for completion of each step.\n",
              "// This uses a Promise to block the python side on completion of each step,\n",
              "// then passes the result of the previous step as the input to the next step.\n",
              "function _uploadFilesContinue(outputId) {\n",
              "  const outputElement = document.getElementById(outputId);\n",
              "  const steps = outputElement.steps;\n",
              "\n",
              "  const next = steps.next(outputElement.lastPromiseValue);\n",
              "  return Promise.resolve(next.value.promise).then((value) => {\n",
              "    // Cache the last promise value to make it available to the next\n",
              "    // step of the generator.\n",
              "    outputElement.lastPromiseValue = value;\n",
              "    return next.value.response;\n",
              "  });\n",
              "}\n",
              "\n",
              "/**\n",
              " * Generator function which is called between each async step of the upload\n",
              " * process.\n",
              " * @param {string} inputId Element ID of the input file picker element.\n",
              " * @param {string} outputId Element ID of the output display.\n",
              " * @return {!Iterable<!Object>} Iterable of next steps.\n",
              " */\n",
              "function* uploadFilesStep(inputId, outputId) {\n",
              "  const inputElement = document.getElementById(inputId);\n",
              "  inputElement.disabled = false;\n",
              "\n",
              "  const outputElement = document.getElementById(outputId);\n",
              "  outputElement.innerHTML = '';\n",
              "\n",
              "  const pickedPromise = new Promise((resolve) => {\n",
              "    inputElement.addEventListener('change', (e) => {\n",
              "      resolve(e.target.files);\n",
              "    });\n",
              "  });\n",
              "\n",
              "  const cancel = document.createElement('button');\n",
              "  inputElement.parentElement.appendChild(cancel);\n",
              "  cancel.textContent = 'Cancel upload';\n",
              "  const cancelPromise = new Promise((resolve) => {\n",
              "    cancel.onclick = () => {\n",
              "      resolve(null);\n",
              "    };\n",
              "  });\n",
              "\n",
              "  // Wait for the user to pick the files.\n",
              "  const files = yield {\n",
              "    promise: Promise.race([pickedPromise, cancelPromise]),\n",
              "    response: {\n",
              "      action: 'starting',\n",
              "    }\n",
              "  };\n",
              "\n",
              "  cancel.remove();\n",
              "\n",
              "  // Disable the input element since further picks are not allowed.\n",
              "  inputElement.disabled = true;\n",
              "\n",
              "  if (!files) {\n",
              "    return {\n",
              "      response: {\n",
              "        action: 'complete',\n",
              "      }\n",
              "    };\n",
              "  }\n",
              "\n",
              "  for (const file of files) {\n",
              "    const li = document.createElement('li');\n",
              "    li.append(span(file.name, {fontWeight: 'bold'}));\n",
              "    li.append(span(\n",
              "        `(${file.type || 'n/a'}) - ${file.size} bytes, ` +\n",
              "        `last modified: ${\n",
              "            file.lastModifiedDate ? file.lastModifiedDate.toLocaleDateString() :\n",
              "                                    'n/a'} - `));\n",
              "    const percent = span('0% done');\n",
              "    li.appendChild(percent);\n",
              "\n",
              "    outputElement.appendChild(li);\n",
              "\n",
              "    const fileDataPromise = new Promise((resolve) => {\n",
              "      const reader = new FileReader();\n",
              "      reader.onload = (e) => {\n",
              "        resolve(e.target.result);\n",
              "      };\n",
              "      reader.readAsArrayBuffer(file);\n",
              "    });\n",
              "    // Wait for the data to be ready.\n",
              "    let fileData = yield {\n",
              "      promise: fileDataPromise,\n",
              "      response: {\n",
              "        action: 'continue',\n",
              "      }\n",
              "    };\n",
              "\n",
              "    // Use a chunked sending to avoid message size limits. See b/62115660.\n",
              "    let position = 0;\n",
              "    do {\n",
              "      const length = Math.min(fileData.byteLength - position, MAX_PAYLOAD_SIZE);\n",
              "      const chunk = new Uint8Array(fileData, position, length);\n",
              "      position += length;\n",
              "\n",
              "      const base64 = btoa(String.fromCharCode.apply(null, chunk));\n",
              "      yield {\n",
              "        response: {\n",
              "          action: 'append',\n",
              "          file: file.name,\n",
              "          data: base64,\n",
              "        },\n",
              "      };\n",
              "\n",
              "      let percentDone = fileData.byteLength === 0 ?\n",
              "          100 :\n",
              "          Math.round((position / fileData.byteLength) * 100);\n",
              "      percent.textContent = `${percentDone}% done`;\n",
              "\n",
              "    } while (position < fileData.byteLength);\n",
              "  }\n",
              "\n",
              "  // All done.\n",
              "  yield {\n",
              "    response: {\n",
              "      action: 'complete',\n",
              "    }\n",
              "  };\n",
              "}\n",
              "\n",
              "scope.google = scope.google || {};\n",
              "scope.google.colab = scope.google.colab || {};\n",
              "scope.google.colab._files = {\n",
              "  _uploadFiles,\n",
              "  _uploadFilesContinue,\n",
              "};\n",
              "})(self);\n",
              "</script> "
            ]
          },
          "metadata": {}
        },
        {
          "output_type": "stream",
          "name": "stdout",
          "text": [
            "Saving data2.csv to data2.csv\n"
          ]
        }
      ]
    },
    {
      "cell_type": "markdown",
      "source": [
        "The BytesIO class allows treating the byte stream as a file-like object"
      ],
      "metadata": {
        "id": "tlldumrFhTj-"
      }
    },
    {
      "cell_type": "code",
      "source": [
        "import io\n",
        "\n",
        "df = pd.read_csv(io.BytesIO(uploaded['data2.csv']))\n",
        "print(df)"
      ],
      "metadata": {
        "colab": {
          "base_uri": "https://localhost:8080/"
        },
        "id": "Fu5ct348qIiw",
        "outputId": "0b940c9a-ef41-4af0-b9cd-efcbc8a722dd"
      },
      "execution_count": null,
      "outputs": [
        {
          "output_type": "stream",
          "name": "stdout",
          "text": [
            "    Make       Model    Year             Engine Fuel Type  Engine HP  \\\n",
            "0    BMW  1 Series M  2011.0  premium unleaded (required)      335.0   \n",
            "1    BMW    1 Series  2011.0  premium unleaded (required)      300.0   \n",
            "2    BMW    1 Series  2011.0  premium unleaded (required)      300.0   \n",
            "3    BMW    1 Series  2011.0  premium unleaded (required)      230.0   \n",
            "4    BMW    1 Series  2011.0  premium unleaded (required)      230.0   \n",
            "..   ...         ...     ...                          ...        ...   \n",
            "865  NaN         NaN     NaN                          NaN        NaN   \n",
            "866  NaN         NaN     NaN                          NaN        NaN   \n",
            "867  NaN         NaN     NaN                          NaN        NaN   \n",
            "868  NaN         NaN     NaN                          NaN        NaN   \n",
            "869  NaN         NaN     NaN                          NaN        NaN   \n",
            "\n",
            "     Engine Cylinders Transmission Type     Driven_Wheels  Number of Doors  \\\n",
            "0                 6.0            MANUAL  rear wheel drive              2.0   \n",
            "1                 6.0            MANUAL  rear wheel drive              2.0   \n",
            "2                 6.0            MANUAL  rear wheel drive              2.0   \n",
            "3                 6.0            MANUAL  rear wheel drive              2.0   \n",
            "4                 6.0            MANUAL  rear wheel drive              2.0   \n",
            "..                ...               ...               ...              ...   \n",
            "865               NaN               NaN               NaN              NaN   \n",
            "866               NaN               NaN               NaN              NaN   \n",
            "867               NaN               NaN               NaN              NaN   \n",
            "868               NaN               NaN               NaN              NaN   \n",
            "869               NaN               NaN               NaN              NaN   \n",
            "\n",
            "                           Market Category Vehicle Size Vehicle Style  \\\n",
            "0    Factory Tuner,Luxury,High-Performance      Compact         Coupe   \n",
            "1                       Luxury,Performance      Compact   Convertible   \n",
            "2                  Luxury,High-Performance      Compact         Coupe   \n",
            "3                       Luxury,Performance      Compact         Coupe   \n",
            "4                                   Luxury      Compact   Convertible   \n",
            "..                                     ...          ...           ...   \n",
            "865                                    NaN          NaN           NaN   \n",
            "866                                    NaN          NaN           NaN   \n",
            "867                                    NaN          NaN           NaN   \n",
            "868                                    NaN          NaN           NaN   \n",
            "869                                    NaN          NaN           NaN   \n",
            "\n",
            "     highway MPG  city mpg  Popularity     MSRP  \n",
            "0           26.0      19.0      3916.0  46135.0  \n",
            "1           28.0      19.0      3916.0  40650.0  \n",
            "2           28.0      20.0      3916.0  36350.0  \n",
            "3           28.0      18.0      3916.0  29450.0  \n",
            "4           28.0      18.0      3916.0  34500.0  \n",
            "..           ...       ...         ...      ...  \n",
            "865          NaN       NaN         NaN      NaN  \n",
            "866          NaN       NaN         NaN      NaN  \n",
            "867          NaN       NaN         NaN      NaN  \n",
            "868          NaN       NaN         NaN      NaN  \n",
            "869          NaN       NaN         NaN      NaN  \n",
            "\n",
            "[870 rows x 16 columns]\n"
          ]
        }
      ]
    },
    {
      "cell_type": "markdown",
      "source": [
        "3) Explore the dataset"
      ],
      "metadata": {
        "id": "DZf15ZF1qLmI"
      }
    },
    {
      "cell_type": "code",
      "source": [
        "print(df.shape)          # Number of rows and columns\n",
        "print(df.head())         # First few rows\n",
        "print(df.dtypes)         # Data types of columns\n"
      ],
      "metadata": {
        "colab": {
          "base_uri": "https://localhost:8080/"
        },
        "id": "SwHYyFPeqOhP",
        "outputId": "cff4845e-acaf-42cb-bd11-dc071ac5b8fa"
      },
      "execution_count": null,
      "outputs": [
        {
          "output_type": "stream",
          "name": "stdout",
          "text": [
            "(870, 16)\n",
            "  Make       Model    Year             Engine Fuel Type  Engine HP  \\\n",
            "0  BMW  1 Series M  2011.0  premium unleaded (required)      335.0   \n",
            "1  BMW    1 Series  2011.0  premium unleaded (required)      300.0   \n",
            "2  BMW    1 Series  2011.0  premium unleaded (required)      300.0   \n",
            "3  BMW    1 Series  2011.0  premium unleaded (required)      230.0   \n",
            "4  BMW    1 Series  2011.0  premium unleaded (required)      230.0   \n",
            "\n",
            "   Engine Cylinders Transmission Type     Driven_Wheels  Number of Doors  \\\n",
            "0               6.0            MANUAL  rear wheel drive              2.0   \n",
            "1               6.0            MANUAL  rear wheel drive              2.0   \n",
            "2               6.0            MANUAL  rear wheel drive              2.0   \n",
            "3               6.0            MANUAL  rear wheel drive              2.0   \n",
            "4               6.0            MANUAL  rear wheel drive              2.0   \n",
            "\n",
            "                         Market Category Vehicle Size Vehicle Style  \\\n",
            "0  Factory Tuner,Luxury,High-Performance      Compact         Coupe   \n",
            "1                     Luxury,Performance      Compact   Convertible   \n",
            "2                Luxury,High-Performance      Compact         Coupe   \n",
            "3                     Luxury,Performance      Compact         Coupe   \n",
            "4                                 Luxury      Compact   Convertible   \n",
            "\n",
            "   highway MPG  city mpg  Popularity     MSRP  \n",
            "0         26.0      19.0      3916.0  46135.0  \n",
            "1         28.0      19.0      3916.0  40650.0  \n",
            "2         28.0      20.0      3916.0  36350.0  \n",
            "3         28.0      18.0      3916.0  29450.0  \n",
            "4         28.0      18.0      3916.0  34500.0  \n",
            "Make                  object\n",
            "Model                 object\n",
            "Year                 float64\n",
            "Engine Fuel Type      object\n",
            "Engine HP            float64\n",
            "Engine Cylinders     float64\n",
            "Transmission Type     object\n",
            "Driven_Wheels         object\n",
            "Number of Doors      float64\n",
            "Market Category       object\n",
            "Vehicle Size          object\n",
            "Vehicle Style         object\n",
            "highway MPG          float64\n",
            "city mpg             float64\n",
            "Popularity           float64\n",
            "MSRP                 float64\n",
            "dtype: object\n"
          ]
        }
      ]
    },
    {
      "cell_type": "markdown",
      "source": [
        "4) Summary statistics: To get an overview data distribution (mean, min, max) usinf describe()"
      ],
      "metadata": {
        "id": "qkboafpUqRaj"
      }
    },
    {
      "cell_type": "code",
      "source": [
        "print(df.describe())\n"
      ],
      "metadata": {
        "colab": {
          "base_uri": "https://localhost:8080/"
        },
        "id": "EOkEdk22qVYl",
        "outputId": "d359a798-f6bc-4dfa-816b-eba19430ff93"
      },
      "execution_count": null,
      "outputs": [
        {
          "output_type": "stream",
          "name": "stdout",
          "text": [
            "              Year   Engine HP  Engine Cylinders  Number of Doors  \\\n",
            "count    99.000000   99.000000         99.000000        99.000000   \n",
            "mean   2006.676768  212.292929          5.070707         3.010101   \n",
            "std      10.788153   65.261054          0.971560         1.005038   \n",
            "min    1990.000000  115.000000          4.000000         2.000000   \n",
            "25%    1994.000000  167.000000          4.000000         2.000000   \n",
            "50%    2013.000000  184.000000          6.000000         4.000000   \n",
            "75%    2016.000000  248.000000          6.000000         4.000000   \n",
            "max    2017.000000  335.000000          6.000000         4.000000   \n",
            "\n",
            "       highway MPG   city mpg   Popularity          MSRP  \n",
            "count    99.000000  99.000000    99.000000     99.000000  \n",
            "mean     29.262626  19.989899  2544.595960  21575.010101  \n",
            "std       5.175661   3.078878  1274.405879  17052.094363  \n",
            "min      20.000000  15.000000   617.000000   2000.000000  \n",
            "25%      25.500000  17.500000  1013.000000   2000.000000  \n",
            "50%      28.000000  19.000000  3105.000000  25690.000000  \n",
            "75%      35.000000  23.000000  3916.000000  35000.000000  \n",
            "max      36.000000  26.000000  3916.000000  51050.000000  \n"
          ]
        }
      ]
    },
    {
      "cell_type": "markdown",
      "source": [
        "5) Checking missing values"
      ],
      "metadata": {
        "id": "1t5mnj6cqXs5"
      }
    },
    {
      "cell_type": "code",
      "source": [
        "print(df.isnull().sum())  # Counting missing values per column\n",
        "\n",
        "#isnull() returns a df where each element is either True  or False\n",
        "#sum() calculates the boolean values"
      ],
      "metadata": {
        "colab": {
          "base_uri": "https://localhost:8080/"
        },
        "id": "q3F1xMuZqabC",
        "outputId": "b03b071c-e918-4a2e-dbb5-1ebe719c385e"
      },
      "execution_count": null,
      "outputs": [
        {
          "output_type": "stream",
          "name": "stdout",
          "text": [
            "Make                 771\n",
            "Model                771\n",
            "Year                 771\n",
            "Engine Fuel Type     771\n",
            "Engine HP            771\n",
            "Engine Cylinders     771\n",
            "Transmission Type    771\n",
            "Driven_Wheels        771\n",
            "Number of Doors      771\n",
            "Market Category      777\n",
            "Vehicle Size         771\n",
            "Vehicle Style        771\n",
            "highway MPG          771\n",
            "city mpg             771\n",
            "Popularity           771\n",
            "MSRP                 771\n",
            "dtype: int64\n"
          ]
        }
      ]
    },
    {
      "cell_type": "code",
      "source": [
        "df = df.dropna()          # Dropping rows with missing values\n",
        "print(df.isnull().sum())"
      ],
      "metadata": {
        "colab": {
          "base_uri": "https://localhost:8080/"
        },
        "id": "gWycdftJqfbo",
        "outputId": "727092a2-8d16-42fb-ce17-926cefc215bf"
      },
      "execution_count": null,
      "outputs": [
        {
          "output_type": "stream",
          "name": "stdout",
          "text": [
            "Make                 0\n",
            "Model                0\n",
            "Year                 0\n",
            "Engine Fuel Type     0\n",
            "Engine HP            0\n",
            "Engine Cylinders     0\n",
            "Transmission Type    0\n",
            "Driven_Wheels        0\n",
            "Number of Doors      0\n",
            "Market Category      0\n",
            "Vehicle Size         0\n",
            "Vehicle Style        0\n",
            "highway MPG          0\n",
            "city mpg             0\n",
            "Popularity           0\n",
            "MSRP                 0\n",
            "dtype: int64\n"
          ]
        }
      ]
    },
    {
      "cell_type": "markdown",
      "source": [
        "6) Data visualization: Creating visualizations to gain insights and understand the relationships between variables"
      ],
      "metadata": {
        "id": "9i5KQFxVqj1U"
      }
    },
    {
      "cell_type": "code",
      "source": [
        "plt.hist(df['Make'], bins=10)                # Histogram of 'Make'\n",
        "plt.xlabel('Make')\n",
        "plt.ylabel('Number of Cars')\n",
        "plt.title('Make Distribution')\n",
        "plt.show()\n",
        "\n"
      ],
      "metadata": {
        "colab": {
          "base_uri": "https://localhost:8080/",
          "height": 472
        },
        "id": "dNAxBTx4ql4g",
        "outputId": "26644a84-5079-4a07-a7d1-12cb0a5636a1"
      },
      "execution_count": null,
      "outputs": [
        {
          "output_type": "display_data",
          "data": {
            "text/plain": [
              "<Figure size 640x480 with 1 Axes>"
            ],
            "image/png": "[encoded data removed]"
          },
          "metadata": {}
        }
      ]
    },
    {
      "cell_type": "code",
      "source": [
        "plt.scatter(df['Transmission Type'], df['Vehicle Style'])        # Scatter plot of 'Transmission Type' vs 'Vehicle Style'\n",
        "plt.xlabel('Transmission Type')\n",
        "plt.ylabel('Vehicle  Style')\n",
        "plt.title('Transmission Type vs Vehicle Style')\n",
        "plt.show()"
      ],
      "metadata": {
        "colab": {
          "base_uri": "https://localhost:8080/",
          "height": 472
        },
        "id": "LYEnz0wuqqYY",
        "outputId": "a0462a20-d753-492a-b2c3-810b6b22a3b1"
      },
      "execution_count": null,
      "outputs": [
        {
          "output_type": "display_data",
          "data": {
            "text/plain": [
              "<Figure size 640x480 with 1 Axes>"
            ],
            "image/png": "[encoded data removed]"
          },
          "metadata": {}
        }
      ]
    },
    {
      "cell_type": "markdown",
      "source": [
        "7) Outliers: Outliers can arise due to various reasons such as measurement errors, data entry errors,etc. These are data points that significantly deviate from the normal or expected patterns in a dataset"
      ],
      "metadata": {
        "id": "qvIaA5XPquDb"
      }
    },
    {
      "cell_type": "markdown",
      "source": [
        "Basiic formula for outlier is Turkey's Fences that define a range within which most of the data should fall.\n",
        "\n",
        "Lower Fence = Q1 - (1.5 * IQR)\n",
        "Upper Fence = Q3 + (1.5 * IQR)\n",
        "\n",
        "Where:\n",
        "Q1 is the first quartile\n",
        "Q3 is the third quartile\n",
        "IQR is the interquartile range (Q3 - Q1)"
      ],
      "metadata": {
        "id": "9zOnpIwPlVa3"
      }
    },
    {
      "cell_type": "code",
      "source": [
        "# Box plot of a variable\n",
        "plt.boxplot(df['Year'])\n",
        "plt.xlabel('Year')\n",
        "plt.title('Year Distribution')\n",
        "plt.show()"
      ],
      "metadata": {
        "colab": {
          "base_uri": "https://localhost:8080/",
          "height": 472
        },
        "id": "onaNlvBGqri-",
        "outputId": "03ade5de-1f8a-45ab-8b3f-44597cfd624a"
      },
      "execution_count": null,
      "outputs": [
        {
          "output_type": "display_data",
          "data": {
            "text/plain": [
              "<Figure size 640x480 with 1 Axes>"
            ],
            "image/png": "[encoded data removed]"
          },
          "metadata": {}
        }
      ]
    },
    {
      "cell_type": "code",
      "source": [
        "# Box plot of a variable\n",
        "plt.boxplot(df['Year'])\n",
        "plt.xlabel('Year')\n",
        "plt.title('Year Distribution')\n",
        "plt.show()\n",
        "\n",
        "# Handling outliers (e.g., removing values above a certain threshold)\n",
        "df = df[df['Year'] < 2002]\n"
      ],
      "metadata": {
        "colab": {
          "base_uri": "https://localhost:8080/",
          "height": 472
        },
        "id": "cvHvK0PdqxVW",
        "outputId": "be9fb66a-5a57-417d-eb38-8756e873a811"
      },
      "execution_count": null,
      "outputs": [
        {
          "output_type": "display_data",
          "data": {
            "text/plain": [
              "<Figure size 640x480 with 1 Axes>"
            ],
            "image/png": "[encoded data removed]"
          },
          "metadata": {}
        }
      ]
    },
    {
      "cell_type": "markdown",
      "source": [
        "EDA Project\n",
        "Dataset containing information about students, including their demographics, test scores, and study habits."
      ],
      "metadata": {
        "id": "ItTOksgTZaCJ"
      }
    },
    {
      "cell_type": "markdown",
      "source": [
        "1) Importing Libraries"
      ],
      "metadata": {
        "id": "uNtb1MejaIOO"
      }
    },
    {
      "cell_type": "code",
      "execution_count": null,
      "metadata": {
        "id": "L51aBxOGZX4I"
      },
      "outputs": [],
      "source": [
        "import pandas as pd\n",
        "import numpy as np\n",
        "import matplotlib.pyplot as plt\n",
        "import seaborn as sns\n"
      ]
    },
    {
      "cell_type": "markdown",
      "source": [
        "We are using seaborn library because it is a data visualization library in Python that is built on top of Matplotlib. It provides a high-level interface for creating informative and attractive statistical graphics."
      ],
      "metadata": {
        "id": "BNEPPRkEadM3"
      }
    },
    {
      "cell_type": "markdown",
      "source": [
        "2) Loading dataset"
      ],
      "metadata": {
        "id": "tcFugIrNanKF"
      }
    },
    {
      "cell_type": "code",
      "source": [
        "from google.colab import files\n",
        "\n",
        "uploaded = files.upload()\n",
        "\n"
      ],
      "metadata": {
        "colab": {
          "base_uri": "https://localhost:8080/",
          "height": 73
        },
        "id": "I5tDJda2ayXz",
        "outputId": "22ba9be3-9967-4151-9d95-0504401fb51b"
      },
      "execution_count": null,
      "outputs": [
        {
          "output_type": "display_data",
          "data": {
            "text/plain": [
              "<IPython.core.display.HTML object>"
            ],
            "text/html": [
              "\n",
              "     <input type=\"file\" id=\"files-3e586fd2-01ac-47fd-a9ab-d1e3df04c641\" name=\"files[]\" multiple disabled\n",
              "        style=\"border:none\" />\n",
              "     <output id=\"result-3e586fd2-01ac-47fd-a9ab-d1e3df04c641\">\n",
              "      Upload widget is only available when the cell has been executed in the\n",
              "      current browser session. Please rerun this cell to enable.\n",
              "      </output>\n",
              "      <script>// Copyright 2017 Google LLC\n",
              "//\n",
              "// Licensed under the Apache License, Version 2.0 (the \"License\");\n",
              "// you may not use this file except in compliance with the License.\n",
              "// You may obtain a copy of the License at\n",
              "//\n",
              "//      http://www.apache.org/licenses/LICENSE-2.0\n",
              "//\n",
              "// Unless required by applicable law or agreed to in writing, software\n",
              "// distributed under the License is distributed on an \"AS IS\" BASIS,\n",
              "// WITHOUT WARRANTIES OR CONDITIONS OF ANY KIND, either express or implied.\n",
              "// See the License for the specific language governing permissions and\n",
              "// limitations under the License.\n",
              "\n",
              "/**\n",
              " * @fileoverview Helpers for google.colab Python module.\n",
              " */\n",
              "(function(scope) {\n",
              "function span(text, styleAttributes = {}) {\n",
              "  const element = document.createElement('span');\n",
              "  element.textContent = text;\n",
              "  for (const key of Object.keys(styleAttributes)) {\n",
              "    element.style[key] = styleAttributes[key];\n",
              "  }\n",
              "  return element;\n",
              "}\n",
              "\n",
              "// Max number of bytes which will be uploaded at a time.\n",
              "const MAX_PAYLOAD_SIZE = 100 * 1024;\n",
              "\n",
              "function _uploadFiles(inputId, outputId) {\n",
              "  const steps = uploadFilesStep(inputId, outputId);\n",
              "  const outputElement = document.getElementById(outputId);\n",
              "  // Cache steps on the outputElement to make it available for the next call\n",
              "  // to uploadFilesContinue from Python.\n",
              "  outputElement.steps = steps;\n",
              "\n",
              "  return _uploadFilesContinue(outputId);\n",
              "}\n",
              "\n",
              "// This is roughly an async generator (not supported in the browser yet),\n",
              "// where there are multiple asynchronous steps and the Python side is going\n",
              "// to poll for completion of each step.\n",
              "// This uses a Promise to block the python side on completion of each step,\n",
              "// then passes the result of the previous step as the input to the next step.\n",
              "function _uploadFilesContinue(outputId) {\n",
              "  const outputElement = document.getElementById(outputId);\n",
              "  const steps = outputElement.steps;\n",
              "\n",
              "  const next = steps.next(outputElement.lastPromiseValue);\n",
              "  return Promise.resolve(next.value.promise).then((value) => {\n",
              "    // Cache the last promise value to make it available to the next\n",
              "    // step of the generator.\n",
              "    outputElement.lastPromiseValue = value;\n",
              "    return next.value.response;\n",
              "  });\n",
              "}\n",
              "\n",
              "/**\n",
              " * Generator function which is called between each async step of the upload\n",
              " * process.\n",
              " * @param {string} inputId Element ID of the input file picker element.\n",
              " * @param {string} outputId Element ID of the output display.\n",
              " * @return {!Iterable<!Object>} Iterable of next steps.\n",
              " */\n",
              "function* uploadFilesStep(inputId, outputId) {\n",
              "  const inputElement = document.getElementById(inputId);\n",
              "  inputElement.disabled = false;\n",
              "\n",
              "  const outputElement = document.getElementById(outputId);\n",
              "  outputElement.innerHTML = '';\n",
              "\n",
              "  const pickedPromise = new Promise((resolve) => {\n",
              "    inputElement.addEventListener('change', (e) => {\n",
              "      resolve(e.target.files);\n",
              "    });\n",
              "  });\n",
              "\n",
              "  const cancel = document.createElement('button');\n",
              "  inputElement.parentElement.appendChild(cancel);\n",
              "  cancel.textContent = 'Cancel upload';\n",
              "  const cancelPromise = new Promise((resolve) => {\n",
              "    cancel.onclick = () => {\n",
              "      resolve(null);\n",
              "    };\n",
              "  });\n",
              "\n",
              "  // Wait for the user to pick the files.\n",
              "  const files = yield {\n",
              "    promise: Promise.race([pickedPromise, cancelPromise]),\n",
              "    response: {\n",
              "      action: 'starting',\n",
              "    }\n",
              "  };\n",
              "\n",
              "  cancel.remove();\n",
              "\n",
              "  // Disable the input element since further picks are not allowed.\n",
              "  inputElement.disabled = true;\n",
              "\n",
              "  if (!files) {\n",
              "    return {\n",
              "      response: {\n",
              "        action: 'complete',\n",
              "      }\n",
              "    };\n",
              "  }\n",
              "\n",
              "  for (const file of files) {\n",
              "    const li = document.createElement('li');\n",
              "    li.append(span(file.name, {fontWeight: 'bold'}));\n",
              "    li.append(span(\n",
              "        `(${file.type || 'n/a'}) - ${file.size} bytes, ` +\n",
              "        `last modified: ${\n",
              "            file.lastModifiedDate ? file.lastModifiedDate.toLocaleDateString() :\n",
              "                                    'n/a'} - `));\n",
              "    const percent = span('0% done');\n",
              "    li.appendChild(percent);\n",
              "\n",
              "    outputElement.appendChild(li);\n",
              "\n",
              "    const fileDataPromise = new Promise((resolve) => {\n",
              "      const reader = new FileReader();\n",
              "      reader.onload = (e) => {\n",
              "        resolve(e.target.result);\n",
              "      };\n",
              "      reader.readAsArrayBuffer(file);\n",
              "    });\n",
              "    // Wait for the data to be ready.\n",
              "    let fileData = yield {\n",
              "      promise: fileDataPromise,\n",
              "      response: {\n",
              "        action: 'continue',\n",
              "      }\n",
              "    };\n",
              "\n",
              "    // Use a chunked sending to avoid message size limits. See b/62115660.\n",
              "    let position = 0;\n",
              "    do {\n",
              "      const length = Math.min(fileData.byteLength - position, MAX_PAYLOAD_SIZE);\n",
              "      const chunk = new Uint8Array(fileData, position, length);\n",
              "      position += length;\n",
              "\n",
              "      const base64 = btoa(String.fromCharCode.apply(null, chunk));\n",
              "      yield {\n",
              "        response: {\n",
              "          action: 'append',\n",
              "          file: file.name,\n",
              "          data: base64,\n",
              "        },\n",
              "      };\n",
              "\n",
              "      let percentDone = fileData.byteLength === 0 ?\n",
              "          100 :\n",
              "          Math.round((position / fileData.byteLength) * 100);\n",
              "      percent.textContent = `${percentDone}% done`;\n",
              "\n",
              "    } while (position < fileData.byteLength);\n",
              "  }\n",
              "\n",
              "  // All done.\n",
              "  yield {\n",
              "    response: {\n",
              "      action: 'complete',\n",
              "    }\n",
              "  };\n",
              "}\n",
              "\n",
              "scope.google = scope.google || {};\n",
              "scope.google.colab = scope.google.colab || {};\n",
              "scope.google.colab._files = {\n",
              "  _uploadFiles,\n",
              "  _uploadFilesContinue,\n",
              "};\n",
              "})(self);\n",
              "</script> "
            ]
          },
          "metadata": {}
        },
        {
          "output_type": "stream",
          "name": "stdout",
          "text": [
            "Saving students2.csv to students2.csv\n"
          ]
        }
      ]
    },
    {
      "cell_type": "markdown",
      "source": [
        "The BytesIO class allows treating the byte stream as a file-like object."
      ],
      "metadata": {
        "id": "N2Zx2LGKcQBP"
      }
    },
    {
      "cell_type": "code",
      "source": [
        "import io\n",
        "\n",
        "df = pd.read_csv(io.BytesIO(uploaded['students2.csv']))\n",
        "print(df)\n"
      ],
      "metadata": {
        "colab": {
          "base_uri": "https://localhost:8080/"
        },
        "id": "y8mAXtqFcXyi",
        "outputId": "7cfad021-d777-48c9-bc69-07fe6c419f30"
      },
      "execution_count": null,
      "outputs": [
        {
          "output_type": "stream",
          "name": "stdout",
          "text": [
            "    gender Semester  raisedhands ParentschoolSatisfaction  StudentAbsenceDays  \\\n",
            "0        M        F           15                     Good                  15   \n",
            "1        M        F           20                     Good                   9   \n",
            "2        M        F           10                      Bad                  14   \n",
            "3        M        F           30                      Bad                   9   \n",
            "4        M        F           40                      Bad                   7   \n",
            "..     ...      ...          ...                      ...                 ...   \n",
            "475      F        F            5                      Bad                   5   \n",
            "476      F        F           50                      Bad                  14   \n",
            "477      F        F           55                      Bad                   9   \n",
            "478      F        F           30                      Bad                   8   \n",
            "479      F        F           35                      Bad                  11   \n",
            "\n",
            "    Class  Age  math score  reading score  writing score  \n",
            "0       M   17          72             72             74  \n",
            "1       M   18          69             90             88  \n",
            "2       L   14          90             95             93  \n",
            "3       L   15          47             57             44  \n",
            "4       M   22          76             78             75  \n",
            "..    ...  ...         ...            ...            ...  \n",
            "475     L   14          71             76             83  \n",
            "476     M   14          76             62             66  \n",
            "477     M   22          80             68             72  \n",
            "478     L   18          55             64             70  \n",
            "479     L   19          76             71             67  \n",
            "\n",
            "[480 rows x 10 columns]\n"
          ]
        }
      ]
    },
    {
      "cell_type": "markdown",
      "source": [
        "3) Checking missing values"
      ],
      "metadata": {
        "id": "0K_-33BkdNZl"
      }
    },
    {
      "cell_type": "code",
      "source": [
        "print(df.isnull().sum())  # Counting missing values per column\n",
        "\n",
        "#isnull() returns a df where each element is either True  or False\n",
        "#sum() calculates the boolean values"
      ],
      "metadata": {
        "colab": {
          "base_uri": "https://localhost:8080/"
        },
        "id": "LQyodkEAdQn_",
        "outputId": "a483b876-32e5-495c-b74c-fd55875e8d52"
      },
      "execution_count": null,
      "outputs": [
        {
          "output_type": "stream",
          "name": "stdout",
          "text": [
            "gender                      0\n",
            "Semester                    0\n",
            "raisedhands                 0\n",
            "ParentschoolSatisfaction    0\n",
            "StudentAbsenceDays          0\n",
            "Class                       0\n",
            "Age                         0\n",
            "math score                  0\n",
            "reading score               0\n",
            "writing score               0\n",
            "dtype: int64\n"
          ]
        }
      ]
    },
    {
      "cell_type": "code",
      "source": [
        "df = df.dropna()          # Dropping rows with missing values\n",
        "\n",
        "print(df.isnull().sum())  # Counting missing values per column"
      ],
      "metadata": {
        "colab": {
          "base_uri": "https://localhost:8080/"
        },
        "id": "PuBDmuPgdZ6D",
        "outputId": "28a193f9-6fda-4157-dccb-6b43f7918cf1"
      },
      "execution_count": null,
      "outputs": [
        {
          "output_type": "stream",
          "name": "stdout",
          "text": [
            "gender                      0\n",
            "Semester                    0\n",
            "raisedhands                 0\n",
            "ParentschoolSatisfaction    0\n",
            "StudentAbsenceDays          0\n",
            "Class                       0\n",
            "Age                         0\n",
            "math score                  0\n",
            "reading score               0\n",
            "writing score               0\n",
            "dtype: int64\n"
          ]
        }
      ]
    },
    {
      "cell_type": "markdown",
      "source": [
        "4) Explore the dataset"
      ],
      "metadata": {
        "id": "KF4a5HCdcg-4"
      }
    },
    {
      "cell_type": "code",
      "source": [
        "print(df.shape)          # Number of rows and columns\n",
        "print(df.head())         # First few rows\n",
        "print(df.dtypes)         # Data types of columns\n",
        "print(df.info())         # Information about the dataset\n"
      ],
      "metadata": {
        "colab": {
          "base_uri": "https://localhost:8080/"
        },
        "id": "PVjAP11JchLf",
        "outputId": "ef655170-ad95-453f-ea36-74315c97d675"
      },
      "execution_count": null,
      "outputs": [
        {
          "output_type": "stream",
          "name": "stdout",
          "text": [
            "(480, 10)\n",
            "  gender Semester  raisedhands ParentschoolSatisfaction  StudentAbsenceDays  \\\n",
            "0      M        F           15                     Good                  15   \n",
            "1      M        F           20                     Good                   9   \n",
            "2      M        F           10                      Bad                  14   \n",
            "3      M        F           30                      Bad                   9   \n",
            "4      M        F           40                      Bad                   7   \n",
            "\n",
            "  Class  Age  math score  reading score  writing score  \n",
            "0     M   17          72             72             74  \n",
            "1     M   18          69             90             88  \n",
            "2     L   14          90             95             93  \n",
            "3     L   15          47             57             44  \n",
            "4     M   22          76             78             75  \n",
            "gender                      object\n",
            "Semester                    object\n",
            "raisedhands                  int64\n",
            "ParentschoolSatisfaction    object\n",
            "StudentAbsenceDays           int64\n",
            "Class                       object\n",
            "Age                          int64\n",
            "math score                   int64\n",
            "reading score                int64\n",
            "writing score                int64\n",
            "dtype: object\n",
            "<class 'pandas.core.frame.DataFrame'>\n",
            "RangeIndex: 480 entries, 0 to 479\n",
            "Data columns (total 10 columns):\n",
            " #   Column                    Non-Null Count  Dtype \n",
            "---  ------                    --------------  ----- \n",
            " 0   gender                    480 non-null    object\n",
            " 1   Semester                  480 non-null    object\n",
            " 2   raisedhands               480 non-null    int64 \n",
            " 3   ParentschoolSatisfaction  480 non-null    object\n",
            " 4   StudentAbsenceDays        480 non-null    int64 \n",
            " 5   Class                     480 non-null    object\n",
            " 6   Age                       480 non-null    int64 \n",
            " 7   math score                480 non-null    int64 \n",
            " 8   reading score             480 non-null    int64 \n",
            " 9   writing score             480 non-null    int64 \n",
            "dtypes: int64(6), object(4)\n",
            "memory usage: 37.6+ KB\n",
            "None\n"
          ]
        }
      ]
    },
    {
      "cell_type": "markdown",
      "source": [
        "5) Summary statistics: To get an overview data distribution (mean, min, max) usinf describe()"
      ],
      "metadata": {
        "id": "Y8NRWrEvdEX9"
      }
    },
    {
      "cell_type": "code",
      "source": [
        "print(df.describe())\n"
      ],
      "metadata": {
        "colab": {
          "base_uri": "https://localhost:8080/"
        },
        "id": "Pqs0IkdXdLGA",
        "outputId": "0c8f0abf-48e3-424d-fce9-5de6c8bea9ad"
      },
      "execution_count": null,
      "outputs": [
        {
          "output_type": "stream",
          "name": "stdout",
          "text": [
            "       raisedhands  StudentAbsenceDays         Age  math score  reading score  \\\n",
            "count   480.000000          480.000000  480.000000  480.000000     480.000000   \n",
            "mean     46.775000           10.060417   18.881250   65.733333      68.535417   \n",
            "std      30.779223            3.015357    3.002515   15.228933      14.840375   \n",
            "min       0.000000            5.000000   14.000000    0.000000      17.000000   \n",
            "25%      15.750000            8.000000   16.000000   57.000000      58.000000   \n",
            "50%      50.000000           10.000000   19.000000   66.000000      70.000000   \n",
            "75%      75.000000           13.000000   21.000000   77.000000      79.000000   \n",
            "max     100.000000           15.000000   24.000000  100.000000     100.000000   \n",
            "\n",
            "       writing score  \n",
            "count     480.000000  \n",
            "mean       67.270833  \n",
            "std        15.390179  \n",
            "min        10.000000  \n",
            "25%        57.000000  \n",
            "50%        68.500000  \n",
            "75%        78.000000  \n",
            "max       100.000000  \n"
          ]
        }
      ]
    },
    {
      "cell_type": "markdown",
      "source": [
        "6) Data visualization: Creating visualizations to gain insights and understand the relationships between variables"
      ],
      "metadata": {
        "id": "kdJhVZpsdvaT"
      }
    },
    {
      "cell_type": "code",
      "source": [
        "# Histogram of the students' age\n",
        "plt.hist(df['Age'], bins=10) #Bins specifies the number of bins or intervals in which the data range will be divided\n",
        "plt.xlabel('Age')\n",
        "plt.ylabel('Count')\n",
        "plt.title('Age Distribution')\n",
        "plt.show()\n",
        "\n"
      ],
      "metadata": {
        "colab": {
          "base_uri": "https://localhost:8080/",
          "height": 472
        },
        "id": "UZUqFSQrdchp",
        "outputId": "da52461e-cac4-49dd-e96b-8922aafe9f24"
      },
      "execution_count": null,
      "outputs": [
        {
          "output_type": "display_data",
          "data": {
            "text/plain": [
              "<Figure size 640x480 with 1 Axes>"
            ],
            "image/png": "[encoded data removed]"
          },
          "metadata": {}
        }
      ]
    },
    {
      "cell_type": "code",
      "source": [
        "# Box plot of raisedhands by age\n",
        "sns.boxplot(x='Age', y='raisedhands', data=df)\n",
        "plt.xlabel('Age')\n",
        "plt.ylabel('Raisedhands')\n",
        "plt.title('Raisedhands by Age')\n",
        "plt.show()"
      ],
      "metadata": {
        "colab": {
          "base_uri": "https://localhost:8080/",
          "height": 472
        },
        "id": "rAxR4ptmfuH6",
        "outputId": "0b389a02-a34d-4089-86e0-3fb582b19a56"
      },
      "execution_count": null,
      "outputs": [
        {
          "output_type": "display_data",
          "data": {
            "text/plain": [
              "<Figure size 640x480 with 1 Axes>"
            ],
            "image/png": "[encoded data removed]"
          },
          "metadata": {}
        }
      ]
    },
    {
      "cell_type": "markdown",
      "source": [
        "Correaltion Heatmap:\n",
        "The correlation matrix is a square matrix where the rows and columns represent variables, and each element represents the correlation between two variables.\n",
        "\n",
        "While heatmap  takes the correlation matrix as input and creates a grid of colored squares, where the color represents the magnitude of the correlation."
      ],
      "metadata": {
        "id": "rTypIt_qg3Kw"
      }
    },
    {
      "cell_type": "code",
      "source": [
        "# Correlation heatmap\n",
        "correlation_matrix = df.corr()\n",
        "sns.heatmap(correlation_matrix, annot=True)\n",
        "plt.title('Correlation Heatmap')\n",
        "plt.show()\n"
      ],
      "metadata": {
        "colab": {
          "base_uri": "https://localhost:8080/",
          "height": 641
        },
        "id": "k_w8IPWygc6j",
        "outputId": "4109fa07-4247-4cdd-a8b3-ee16d9e6b44b"
      },
      "execution_count": null,
      "outputs": [
        {
          "output_type": "stream",
          "name": "stderr",
          "text": [
            "<ipython-input-48-5e66b1c22b83>:2: FutureWarning: The default value of numeric_only in DataFrame.corr is deprecated. In a future version, it will default to False. Select only valid columns or specify the value of numeric_only to silence this warning.\n",
            "  correlation_matrix = df.corr()\n"
          ]
        },
        {
          "output_type": "display_data",
          "data": {
            "text/plain": [
              "<Figure size 640x480 with 2 Axes>"
            ],
            "image/png": "[encoded data removed]"
          },
          "metadata": {}
        }
      ]
    },
    {
      "cell_type": "markdown",
      "source": [
        "7) Feature Engineering:\n",
        "Creating new features or modify existing ones to extract more meaningful information"
      ],
      "metadata": {
        "id": "TvFOl9h4hfHK"
      }
    },
    {
      "cell_type": "code",
      "source": [
        "# Calculate the total score by summing math score, reading score, writing score\n",
        "df['total_score'] = df['math score'] + df['reading score'] + df['writing score']\n",
        "\n",
        "# Create a categorical variable for pass/fail based on a certain threshold\n",
        "df['pass'] = np.where(df['total_score'] >= 40, 'Pass', 'Fail')\n"
      ],
      "metadata": {
        "id": "hIPWjMT5hrwx"
      },
      "execution_count": null,
      "outputs": []
    },
    {
      "cell_type": "code",
      "source": [
        "print(df['total_score'])\n",
        "print(df['pass'])"
      ],
      "metadata": {
        "colab": {
          "base_uri": "https://localhost:8080/"
        },
        "id": "50CIOnirivZl",
        "outputId": "fc2df3b3-ee62-4a2e-877e-98bb1256b2d8"
      },
      "execution_count": null,
      "outputs": [
        {
          "output_type": "stream",
          "name": "stdout",
          "text": [
            "0      218\n",
            "1      247\n",
            "2      278\n",
            "3      148\n",
            "4      229\n",
            "      ... \n",
            "475    230\n",
            "476    204\n",
            "477    220\n",
            "478    189\n",
            "479    214\n",
            "Name: total_score, Length: 480, dtype: int64\n",
            "0      Pass\n",
            "1      Pass\n",
            "2      Pass\n",
            "3      Pass\n",
            "4      Pass\n",
            "       ... \n",
            "475    Pass\n",
            "476    Pass\n",
            "477    Pass\n",
            "478    Pass\n",
            "479    Pass\n",
            "Name: pass, Length: 480, dtype: object\n"
          ]
        }
      ]
    },
    {
      "cell_type": "markdown",
      "source": [
        "8) Exploring categorical variables"
      ],
      "metadata": {
        "id": "h0xMJeHDjQuL"
      }
    },
    {
      "cell_type": "code",
      "source": [
        "# Count plot of Age\n",
        "sns.countplot(x='Age', data=df)\n",
        "plt.xticks(rotation=45)\n",
        "plt.xlabel('Age')\n",
        "plt.ylabel('Count')\n",
        "plt.title('Age')\n",
        "plt.show()\n",
        "\n"
      ],
      "metadata": {
        "colab": {
          "base_uri": "https://localhost:8080/",
          "height": 480
        },
        "id": "w57MWnEOjX5J",
        "outputId": "d2d8a682-5795-4f14-da68-90f97fe8c0c8"
      },
      "execution_count": null,
      "outputs": [
        {
          "output_type": "display_data",
          "data": {
            "text/plain": [
              "<Figure size 640x480 with 1 Axes>"
            ],
            "image/png": "[encoded data removed]"
          },
          "metadata": {}
        }
      ]
    },
    {
      "cell_type": "code",
      "source": [
        "# Bar plot of pass/fail by StudentAbsenceDays\n",
        "sns.barplot(x='StudentAbsenceDays', y='pass', data=df)\n",
        "plt.xlabel('StudentAbsenceDays')\n",
        "plt.ylabel('Pass Percentage')\n",
        "plt.title('Pass/Fail by StudentAbsenceDays')\n",
        "plt.show()"
      ],
      "metadata": {
        "colab": {
          "base_uri": "https://localhost:8080/",
          "height": 472
        },
        "id": "6-ioW1uFj1Nl",
        "outputId": "8a5f91d7-d8da-4a26-9271-9df34ed7dd6c"
      },
      "execution_count": null,
      "outputs": [
        {
          "output_type": "display_data",
          "data": {
            "text/plain": [
              "<Figure size 640x480 with 1 Axes>"
            ],
            "image/png": "[encoded data removed]"
          },
          "metadata": {}
        }
      ]
    },
    {
      "cell_type": "markdown",
      "source": [
        "9) Outliers:\n",
        "Outliers can arise due to various reasons such as measurement errors, data entry errors,etc.\n",
        "These are data points that significantly deviate from the normal or expected patterns in a dataset"
      ],
      "metadata": {
        "id": "67P6ijTDnQzm"
      }
    },
    {
      "cell_type": "code",
      "source": [
        "# Box plot of math scores\n",
        "sns.boxplot(x=df['math score'])\n",
        "plt.xlabel('Math Score')\n",
        "plt.title('Math Score Distribution')\n",
        "plt.show()\n",
        "\n",
        "\n"
      ],
      "metadata": {
        "colab": {
          "base_uri": "https://localhost:8080/",
          "height": 472
        },
        "id": "zr7VNHNUnRj7",
        "outputId": "4378d7d0-d5e7-437c-a617-735043ecaefa"
      },
      "execution_count": null,
      "outputs": [
        {
          "output_type": "display_data",
          "data": {
            "text/plain": [
              "<Figure size 640x480 with 1 Axes>"
            ],
            "image/png": "[encoded data removed]"
          },
          "metadata": {}
        }
      ]
    },
    {
      "cell_type": "code",
      "source": [
        "# Handling outliers (e.g., capping extreme values)\n",
        "df['math score'] = np.where(df['math score'] > 100, 100, df['math score'])\n",
        "print(df['math score'])"
      ],
      "metadata": {
        "colab": {
          "base_uri": "https://localhost:8080/"
        },
        "id": "FmR9HsK1nvXx",
        "outputId": "46113c62-dfc0-4176-f07e-fe06ee70841f"
      },
      "execution_count": null,
      "outputs": [
        {
          "output_type": "stream",
          "name": "stdout",
          "text": [
            "0      72\n",
            "1      69\n",
            "2      90\n",
            "3      47\n",
            "4      76\n",
            "       ..\n",
            "475    71\n",
            "476    76\n",
            "477    80\n",
            "478    55\n",
            "479    76\n",
            "Name: math score, Length: 480, dtype: int64\n"
          ]
        }
      ]
    },
    {
      "cell_type": "markdown",
      "source": [
        "By using np.where(df['math_score'] > 100, 100, df['math_score']), the code checks each value in the 'math_score' column. If a value is greater than 100, it is replaced with 100. If a value is less than or equal to 100, it remains unchanged."
      ],
      "metadata": {
        "id": "kE-2p9cRoWt-"
      }
    },
    {
      "cell_type": "code",
      "source": [
        "# Box plot of a variable\n",
        "plt.boxplot(df['Age'])\n",
        "plt.xlabel('Age')\n",
        "plt.title('Age Distribution')\n",
        "plt.show()\n"
      ],
      "metadata": {
        "colab": {
          "base_uri": "https://localhost:8080/",
          "height": 472
        },
        "id": "O9nvvit2oaEA",
        "outputId": "ea4fb608-d7ba-442a-a5fc-502bbe284081"
      },
      "execution_count": null,
      "outputs": [
        {
          "output_type": "display_data",
          "data": {
            "text/plain": [
              "<Figure size 640x480 with 1 Axes>"
            ],
            "image/png": "[encoded data removed]"
          },
          "metadata": {}
        }
      ]
    }
  ]
}